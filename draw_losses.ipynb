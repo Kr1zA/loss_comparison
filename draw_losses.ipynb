{
 "cells": [
  {
   "cell_type": "code",
   "execution_count": null,
   "metadata": {},
   "outputs": [],
   "source": [
    "import pandas as pd\n",
    "import numpy as np\n",
    "\n",
    "import plotly\n",
    "import plotly.express as px\n",
    "\n",
    "from plotly.subplots import make_subplots\n",
    "import plotly.graph_objects as go\n",
    "\n",
    "import losses as losses\n",
    "\n",
    "from torch import nn\n",
    "import torch"
   ]
  },
  {
   "cell_type": "code",
   "execution_count": null,
   "metadata": {},
   "outputs": [],
   "source": [
    "# SCALE_DATASET = None\n",
    "SCALE_DATASET = \"minmax\"\n",
    "# SCALE_DATASET = \"standard\""
   ]
  },
  {
   "cell_type": "code",
   "execution_count": null,
   "metadata": {},
   "outputs": [],
   "source": [
    "dataset = torch.tensor(np.array([[91.7600], [30.5500], [87.3800], [91.6200], [100.0000], [64.9000], [39.0900], [38.3100], [7.6700], [99.3700], [11.3200], [65.3300], [81.6600], [0.0000], [4.2700], [63.6500], [88.3800], [44.1100], [67.0900], [89.7600], [69.4400], [27.1100], [15.3300], [30.3800], [77.5100], [87.0500], [97.3200], [14.3900], [91.0400], [97.8900], [42.6400], [37.0100], [78.3100], [53.9000], [84.9300], [90.3000], [65.4800], [49.8300], [72.5100], [45.1100], [95.7400], [87.6700], [5.9400], [73.6000], [4.3900], [12.0700], [88.0900], [48.4700], [92.4700], [85.1400], [68.9600], [53.8300], [56.2300], [24.3400], [66.6600], [47.6100], [93.2500], [44.7700], [91.1700], [73.6200], [20.0600], [31.3500], [75.9000], [36.9300], [53.6900], [97.5100], [4.1400], [56.8300], [44.0700], [72.3200], [83.8400], [67.9500], [0.5200], [30.5400], [91.4000], [56.9700], [29.1800], [17.5300], [92.8300], [0.1300], [98.8000], [14.9800], [39.2800], [39.1900], [29.2300], [26.8700], [32.5200], [32.6200], [80.6300], [42.5400], [71.5200], [86.8000], [64.8900], [47.4900], [26.0700], [38.2700], [35.8200], [70.9800], [25.0400], [10.0000]]), dtype=torch.float32)\n",
    "if SCALE_DATASET == \"standard\":\n",
    "    dataset_mean = dataset.mean()\n",
    "    dataset_std = dataset.std()\n",
    "    dataset = (dataset - dataset_mean) / dataset_std\n",
    "if SCALE_DATASET == \"minmax\":\n",
    "    dataset_min = dataset.min()\n",
    "    dataset_max = dataset.max()\n",
    "    dataset = (dataset - dataset_min) / (dataset_max - dataset_min)\n",
    "train_dataset = dataset[:80]\n",
    "test_dataset = dataset[80:]\n",
    "test_dataset"
   ]
  },
  {
   "cell_type": "code",
   "execution_count": null,
   "metadata": {},
   "outputs": [],
   "source": [
    "awg_diff_train = torch.mean(torch.abs(train_dataset[1:] - train_dataset[:-1]))\n",
    "print(awg_diff_train)\n",
    "avg_sq_train_diff = torch.mean(torch.square(train_dataset[1:] - train_dataset[:-1]))\n",
    "print(avg_sq_train_diff)\n",
    "mean_train = torch.mean(train_dataset)\n",
    "print(mean_train)\n",
    "\n"
   ]
  },
  {
   "cell_type": "code",
   "execution_count": null,
   "metadata": {},
   "outputs": [],
   "source": [
    "predicted = torch.tensor(np.arange(-100, 121).reshape(-1,1), dtype=float)\n",
    "print(predicted)\n",
    "if SCALE_DATASET == \"standard\":\n",
    "    predicted = (predicted - dataset_mean) / dataset_std\n",
    "if SCALE_DATASET == \"minmax\":\n",
    "    predicted = (predicted - dataset_min) / (dataset_max - dataset_min)\n",
    "real = torch.tensor(np.full((len(predicted)),test_dataset[-1]).reshape(-1,1), dtype=float)\n",
    "index = real - predicted\n"
   ]
  },
  {
   "cell_type": "code",
   "execution_count": null,
   "metadata": {},
   "outputs": [],
   "source": [
    "def draw_loss(loss, func_name, predicted_example=130, **kwargs):\n",
    "    loss_output = loss(predicted, real, **kwargs)\n",
    "\n",
    "    loss_output_df = pd.DataFrame(\n",
    "        data=np.concatenate(\n",
    "            (\n",
    "                index.reshape(-1).numpy().reshape(-1, 1),\n",
    "                loss_output.reshape(-1).numpy().reshape(-1, 1),\n",
    "            ),\n",
    "            axis=1,\n",
    "        ),\n",
    "        columns=[\"error\", func_name],\n",
    "    )\n",
    "    fig = px.line(loss_output_df, x=loss_output_df.columns[0], y=func_name, title=func_name)\n",
    "\n",
    "    if \"angle_loss\" == func_name:\n",
    "        data = {\n",
    "            \"x\": [awg_diff_train, awg_diff_train, 0],\n",
    "            \"y\": [\n",
    "                test_dataset[-1][0],\n",
    "                predicted[predicted_example][0],\n",
    "                test_dataset[-2][0],\n",
    "            ],\n",
    "            \"color\": [\"Target\", \"Predicted\", \"Previous\"],  # Use descriptive names\n",
    "            \"info\": [\"\", f\"Predicted, error:{index[predicted_example][0]}\", \"\"],\n",
    "        }\n",
    "\n",
    "        df = pd.DataFrame(data)\n",
    "\n",
    "        fig_data = px.scatter(\n",
    "            df, x=\"x\", y=\"y\", color=\"color\", title=\"situation\", hover_data=[\"info\"]\n",
    "        )\n",
    "        ratio = float(kwargs[\"avg_diff\"].numpy())\n",
    "        fig_data.update_layout(\n",
    "            xaxis=dict(scaleanchor=\"y\", scaleratio=ratio),\n",
    "            # xaxis=dict(scaleanchor=\"y\", scaleratio=1),\n",
    "            yaxis=dict(scaleanchor=\"x\", scaleratio=1),\n",
    "        )\n",
    "\n",
    "        fig_data.add_scatter(\n",
    "            x=[kwargs[\"avg_diff\"], 0],  # x-coordinates of the line\n",
    "            y=[predicted[predicted_example][0], test_dataset[-2][0]],  # y-coordinates of the line\n",
    "            mode='lines',\n",
    "            line=dict(color='black', width=1),  # Customize color and width\n",
    "            name=\"\"\n",
    "        )\n",
    "        fig_data.add_scatter(\n",
    "            x=[kwargs[\"avg_diff\"], 0],  # x-coordinates of the line\n",
    "            y=[test_dataset[-1][0], test_dataset[-2][0]],  # y-coordinates of the line\n",
    "            mode='lines',\n",
    "            line=dict(color='black', width=1),  # Customize color and width\n",
    "            name=\"\"\n",
    "        )\n",
    "\n",
    "        fig.add_scatter(\n",
    "            x=[loss_output_df.iloc[predicted_example][\"error\"]],  # Replace with your x coordinate\n",
    "            y=[loss_output_df.iloc[predicted_example][\"angle_loss\"]],  # Replace with your y coordinate\n",
    "            mode='markers',\n",
    "            marker=dict(color='green', size=10),\n",
    "            name='situation'\n",
    "        )\n",
    "\n",
    "\n",
    "        return fig, fig_data\n",
    "    return fig"
   ]
  },
  {
   "cell_type": "markdown",
   "metadata": {},
   "source": [
    "### Angle loss graph\n",
    "There are 2 graphs below. First one shows graph of loss with one point. You can chane position of this point by changing value of predicted_example (from 0 to 220). This will change the secong graph, that describe real situation."
   ]
  },
  {
   "cell_type": "code",
   "execution_count": null,
   "metadata": {},
   "outputs": [],
   "source": [
    "loss_graph, situation_graph = draw_loss(losses.angle_loss, \"angle_loss\", predicted_example = 140, target_minus1 = test_dataset[-2], avg_diff = awg_diff_train, reduction = \"none\")\n",
    "loss_graph.show()\n",
    "situation_graph.show()"
   ]
  },
  {
   "cell_type": "code",
   "execution_count": null,
   "metadata": {},
   "outputs": [],
   "source": [
    "draw_loss(losses.mae, \"mae\", reduction = \"none\")"
   ]
  },
  {
   "cell_type": "code",
   "execution_count": null,
   "metadata": {},
   "outputs": [],
   "source": [
    "draw_loss(losses.mse, \"mse\", reduction = \"none\")"
   ]
  },
  {
   "cell_type": "code",
   "execution_count": null,
   "metadata": {},
   "outputs": [],
   "source": [
    "draw_loss(losses.mase, \"mase\", train_avg_diff = awg_diff_train, reduction = \"none\")"
   ]
  },
  {
   "cell_type": "code",
   "execution_count": null,
   "metadata": {},
   "outputs": [],
   "source": [
    "draw_loss(losses.rmsse, \"rmsse\", avg_sq_train_diff = avg_sq_train_diff, reduction = \"none\")"
   ]
  },
  {
   "cell_type": "code",
   "execution_count": null,
   "metadata": {},
   "outputs": [],
   "source": [
    "draw_loss(losses.poisson, \"poisson\", reduction = \"none\")"
   ]
  },
  {
   "cell_type": "code",
   "execution_count": null,
   "metadata": {},
   "outputs": [],
   "source": [
    "draw_loss(losses.mbe, \"mbe\", reduction = \"none\")"
   ]
  },
  {
   "cell_type": "code",
   "execution_count": null,
   "metadata": {},
   "outputs": [],
   "source": [
    "draw_loss(losses.rae, \"rea\", dataset_mean = mean_train, reduction = \"none\")"
   ]
  },
  {
   "cell_type": "code",
   "execution_count": null,
   "metadata": {},
   "outputs": [],
   "source": [
    "draw_loss(losses.rse, \"rse\", dataset_mean = mean_train, reduction = \"none\")"
   ]
  },
  {
   "cell_type": "code",
   "execution_count": null,
   "metadata": {},
   "outputs": [],
   "source": [
    "draw_loss(losses.mape, \"mape\", reduction = \"none\")"
   ]
  },
  {
   "cell_type": "code",
   "execution_count": null,
   "metadata": {},
   "outputs": [],
   "source": [
    "draw_loss(losses.rmse, \"rmse\", reduction = \"none\")"
   ]
  },
  {
   "cell_type": "code",
   "execution_count": null,
   "metadata": {},
   "outputs": [],
   "source": [
    "draw_loss(losses.msle, \"msle\", reduction = \"none\")"
   ]
  },
  {
   "cell_type": "code",
   "execution_count": null,
   "metadata": {},
   "outputs": [],
   "source": [
    "draw_loss(losses.rmsle, \"rmsle\", reduction = \"none\")"
   ]
  },
  {
   "cell_type": "code",
   "execution_count": null,
   "metadata": {},
   "outputs": [],
   "source": [
    "draw_loss(losses.nrmse, \"nrmse\", norm_factor = mean_train , reduction = \"none\")"
   ]
  },
  {
   "cell_type": "code",
   "execution_count": null,
   "metadata": {},
   "outputs": [],
   "source": [
    "draw_loss(losses.nrmse, \"nrmse\", norm_factor = mean_train , reduction = \"none\")"
   ]
  },
  {
   "cell_type": "code",
   "execution_count": null,
   "metadata": {},
   "outputs": [],
   "source": [
    "draw_loss(losses.rrmse, \"rrmse\", reduction = \"none\")"
   ]
  },
  {
   "cell_type": "code",
   "execution_count": null,
   "metadata": {},
   "outputs": [],
   "source": [
    "draw_loss(losses.huber, \"huber_loss\", reduction = \"none\", delta = mean_train/2)"
   ]
  },
  {
   "cell_type": "code",
   "execution_count": null,
   "metadata": {},
   "outputs": [],
   "source": [
    "draw_loss(losses.logCosh, \"logCosh\", reduction = \"none\")"
   ]
  },
  {
   "cell_type": "code",
   "execution_count": null,
   "metadata": {},
   "outputs": [],
   "source": [
    "draw_loss(losses.kernelMSE, \"kernelMSE\", reduction = \"none\")"
   ]
  },
  {
   "cell_type": "code",
   "execution_count": null,
   "metadata": {},
   "outputs": [],
   "source": [
    "draw_loss(losses.quantile, \"quantile\", q = 0.75, reduction = \"none\")"
   ]
  },
  {
   "cell_type": "code",
   "execution_count": null,
   "metadata": {},
   "outputs": [],
   "source": [
    "draw_loss(losses.quantile, \"quantile\", q = 0.25, reduction = \"none\")"
   ]
  },
  {
   "cell_type": "code",
   "execution_count": null,
   "metadata": {},
   "outputs": [],
   "source": [
    "loss_values = [\n",
    "    losses.huber(predicted, real, reduction = \"none\", delta = mean_train/2),\n",
    "    losses.kernelMSE(predicted, real, reduction = \"none\"),\n",
    "    losses.logCosh(predicted, real, reduction = \"none\"),\n",
    "    losses.mae(predicted, real, reduction = \"none\"),\n",
    "    losses.mape(predicted, real, reduction = \"none\"),\n",
    "    losses.mase(predicted, real, train_avg_diff = awg_diff_train, reduction = \"none\"),\n",
    "    losses.mbe(predicted, real, reduction = \"none\"),\n",
    "    losses.mse(predicted, real, reduction = \"none\"),\n",
    "    losses.msle(predicted, real, reduction = \"none\"),\n",
    "    losses.nrmse(predicted, real, norm_factor = mean_train , reduction = \"none\"),\n",
    "    losses.poisson(predicted, real, reduction = \"none\"),\n",
    "    losses.quantile(predicted, real, q = 0.25, reduction = \"none\"),\n",
    "    losses.quantile(predicted, real, q = 0.75, reduction = \"none\"),\n",
    "    losses.rae(predicted, real, dataset_mean = mean_train, reduction = \"none\"),\n",
    "    losses.rrmse(predicted, real, reduction = \"none\"),\n",
    "    losses.rse(predicted, real, dataset_mean = mean_train, reduction = \"none\"),\n",
    "    losses.rmse(predicted, real, reduction = \"none\"),\n",
    "    losses.rmsle(predicted, real, reduction = \"none\"),\n",
    "    losses.rmsse(predicted, real, avg_sq_train_diff = avg_sq_train_diff, reduction = \"none\"),\n",
    "    losses.angle_loss(predicted, real, target_minus1 = test_dataset[-2], avg_diff = awg_diff_train, reduction = \"none\"),\n",
    "]"
   ]
  },
  {
   "cell_type": "code",
   "execution_count": null,
   "metadata": {},
   "outputs": [],
   "source": [
    "loss_names = [\n",
    "    \"Huber Loss\", \n",
    "    \"KernelMSE\", \n",
    "    \"Log-Cosh Loss\", \n",
    "    \"MAE\", \n",
    "    \"MAPE\", \n",
    "    \"MASE\", \n",
    "    \"MBE\", \n",
    "    \"MSE\", \n",
    "    \"MSLE\", \n",
    "    \"NRMSE\", \n",
    "    \"Poisson Loss\", \n",
    "    \"Quantile Loss 0.25\", \n",
    "    \"Quantile Loss 0.75\", \n",
    "    \"RAE\", \n",
    "    \"RRMSE\", \n",
    "    \"RSE\", \n",
    "    \"RMSE\", \n",
    "    \"RMSLE\", \n",
    "    \"RMSSE\", \n",
    "    \"Angle Loss\"\n",
    "]"
   ]
  },
  {
   "cell_type": "code",
   "execution_count": null,
   "metadata": {},
   "outputs": [],
   "source": [
    "def draw_losses(loss_values, loss_names):\n",
    "    \n",
    "    # Create a 7x3 grid of subplots\n",
    "    fig = make_subplots(\n",
    "        rows=4, \n",
    "        cols=5, \n",
    "        subplot_titles=loss_names,  # Titles for each subplot\n",
    "        vertical_spacing=0.05\n",
    "    )\n",
    "\n",
    "    # Add a trace to each subplot\n",
    "    for i in range(1, 21):  # 21 subplots\n",
    "        row = (i - 1) // 5 + 1  # Calculate the row number\n",
    "        col = (i - 1) % 5 + 1   # Calculate the column number\n",
    "        \n",
    "        \n",
    "        loss_output = loss_values[i-1]\n",
    "        loss_output_df = pd.DataFrame(\n",
    "            data=np.concatenate(\n",
    "                (\n",
    "                    index.reshape(-1).numpy().reshape(-1, 1),\n",
    "                    loss_output.reshape(-1).numpy().reshape(-1, 1),\n",
    "                ),\n",
    "                axis=1,\n",
    "            ),\n",
    "            columns=[\"error\", loss_names[i-1]],\n",
    "        )\n",
    "        # print(loss_output_df)\n",
    "        # px.line(loss_output_df, x=loss_output_df.columns[0], y=loss_names[i-1], title=loss_names[i-1])\n",
    "        # Add a simple scatter plot to each subplot\n",
    "\n",
    "        fig.add_trace(\n",
    "            go.Scatter(x=loss_output_df[\"error\"], y=loss_output_df[loss_names[i-1]], mode='lines', name=loss_names[i-1], line=dict(color='black')),\n",
    "            # px.line(loss_output_df, x=loss_output_df.columns[0], y=loss_names[i-1], title=loss_names[i-1]),\n",
    "            row=row,\n",
    "            col=col\n",
    "        )\n",
    "\n",
    "    # Update layout\n",
    "    fig.update_layout(\n",
    "        height=1000,  # Adjust height for better spacing\n",
    "        width=1200,    # Adjust width for better spacing\n",
    "        # title=\"7x3 Grid of Subplots\",\n",
    "        showlegend=False,  # Hide legend for simplicity\n",
    "        margin=dict(l=5, r=5, t=30, b=5)\n",
    "    )\n",
    "    \n",
    "    return fig"
   ]
  },
  {
   "cell_type": "code",
   "execution_count": null,
   "metadata": {},
   "outputs": [],
   "source": [
    "losses_graph = draw_losses(loss_values, loss_names)\n",
    "losses_graph.show()"
   ]
  },
  {
   "cell_type": "code",
   "execution_count": null,
   "metadata": {},
   "outputs": [],
   "source": [
    "# losses_graph.write_image(\"plot.pdf\", format=\"pdf\")"
   ]
  }
 ],
 "metadata": {
  "accelerator": "GPU",
  "colab": {
   "gpuType": "T4",
   "provenance": []
  },
  "kernelspec": {
   "display_name": "torch2.6",
   "language": "python",
   "name": "python3"
  },
  "language_info": {
   "codemirror_mode": {
    "name": "ipython",
    "version": 3
   },
   "file_extension": ".py",
   "mimetype": "text/x-python",
   "name": "python",
   "nbconvert_exporter": "python",
   "pygments_lexer": "ipython3",
   "version": "3.11.11"
  }
 },
 "nbformat": 4,
 "nbformat_minor": 4
}
