{
 "cells": [
  {
   "cell_type": "code",
   "execution_count": null,
   "id": "b8f640f4",
   "metadata": {},
   "outputs": [],
   "source": [
    "import pandas as pd \n",
    "import wandb\n",
    "\n",
    "import plotly.graph_objects as go\n",
    "from plotly.subplots import make_subplots\n",
    "\n",
    "import numpy as np\n",
    "\n"
   ]
  },
  {
   "cell_type": "code",
   "execution_count": null,
   "id": "e4019867",
   "metadata": {},
   "outputs": [],
   "source": [
    "# login with your API key\n",
    "# this takes about 10 minutes\n",
    "\n",
    "api = wandb.Api()\n",
    "\n",
    "# Project is specified by <entity/project-name>\n",
    "runs = api.runs(\"kriza-upjs/loss_security\")\n",
    "\n",
    "summary_list, config_list, name_list, create_time_list = [], [], [], []\n",
    "for run in runs: \n",
    "    # .summary contains the output keys/values for metrics like accuracy.\n",
    "    #  We call ._json_dict to omit large files \n",
    "    summary_list.append(run.summary._json_dict)\n",
    "\n",
    "    # .config contains the hyperparameters.\n",
    "    #  We remove special values that start with _.\n",
    "    config_list.append(\n",
    "        {k: v for k,v in run.config.items()\n",
    "          if not k.startswith('_')})\n",
    "\n",
    "    # .name is the human-readable name of the run.\n",
    "    name_list.append(run.name)\n",
    "    \n",
    "    create_time_list.append(run.created_at)\n",
    "\n",
    "runs_df = pd.DataFrame({\n",
    "    \"summary\": summary_list,\n",
    "    \"config\": config_list,\n",
    "    \"name\": name_list,\n",
    "    \"create_time\": create_time_list,\n",
    "    })\n",
    "\n",
    "# can save to coserve time\n",
    "# runs_df.to_pickle(\"runs_df.pkl.xz\", compression=\"xz\")"
   ]
  },
  {
   "cell_type": "code",
   "execution_count": null,
   "id": "eb3c4bbd",
   "metadata": {},
   "outputs": [],
   "source": [
    "# # load if saved\n",
    "# runs_df = pd.read_pickle(\"runs_df.pkl.xz\", compression=\"xz\")"
   ]
  },
  {
   "cell_type": "code",
   "execution_count": null,
   "id": "3605dab0",
   "metadata": {},
   "outputs": [],
   "source": [
    "runs_df"
   ]
  },
  {
   "cell_type": "code",
   "execution_count": null,
   "id": "57bf9fa7",
   "metadata": {},
   "outputs": [],
   "source": [
    "runs_df = runs_df.sort_values(by='create_time', ascending=True)\n",
    "# runs_df = runs_df.iloc[:-2]"
   ]
  },
  {
   "cell_type": "code",
   "execution_count": null,
   "id": "1cc90c66",
   "metadata": {},
   "outputs": [],
   "source": []
  },
  {
   "cell_type": "code",
   "execution_count": null,
   "id": "5347bd65",
   "metadata": {},
   "outputs": [],
   "source": [
    "maes = []\n",
    "mases = []\n",
    "losses_old = []\n",
    "best_epochs = []\n",
    "for i, run in runs_df.iterrows():\n",
    "    # if run config contains \"loss\" and \"MAE\" in summary\n",
    "    if \"loss\" in run[\"config\"] and \"MAE\" in run[\"summary\"]:\n",
    "        # print(run[\"summary\"])\n",
    "        maes.append(run[\"summary\"][\"MAE\"])\n",
    "        mases.append(run[\"summary\"][\"MASE\"])\n",
    "        losses_old.append(run[\"config\"][\"loss\"])\n",
    "        best_epochs.append(run[\"summary\"][\"best_epoch\"])\n",
    "    \n",
    "    if \"loss\" not in run[\"config\"]:\n",
    "        maes.append(run[\"summary\"][\"MAE\"])\n",
    "        mases.append(run[\"summary\"][\"MASE\"])\n",
    "        losses_old.append(\"NAIVE\")\n",
    "        best_epochs.append(0)\n",
    "    \n",
    "    if \"MAE\" not in run[\"summary\"]:\n",
    "        maes.append(-1)\n",
    "        mases.append(-1)\n",
    "        losses_old.append(run[\"config\"][\"loss\"])\n",
    "        best_epochs.append(0)\n",
    "            \n",
    "runs_df[\"MAE\"] = maes\n",
    "runs_df[\"MASE\"] = mases\n",
    "runs_df[\"loss\"] = losses_old\n",
    "runs_df[\"best_epoch\"] = best_epochs\n",
    "losses_old = set(losses_old)"
   ]
  },
  {
   "cell_type": "code",
   "execution_count": null,
   "id": "bc947d07",
   "metadata": {},
   "outputs": [],
   "source": [
    "runs_df"
   ]
  },
  {
   "cell_type": "code",
   "execution_count": null,
   "id": "af73c024",
   "metadata": {},
   "outputs": [],
   "source": [
    "# remove lines from runs_df where MAE is \"N/A\" and loss is \"NAIVE\"\n",
    "runs_df = runs_df[~((runs_df[\"loss\"] == \"NAIVE\"))]\n"
   ]
  },
  {
   "cell_type": "code",
   "execution_count": null,
   "id": "a81d4277",
   "metadata": {},
   "outputs": [],
   "source": [
    "runs_df"
   ]
  },
  {
   "cell_type": "code",
   "execution_count": null,
   "id": "a5da5b9a",
   "metadata": {},
   "outputs": [],
   "source": [
    "list_of_losses = [\n",
    "    'huber',\n",
    "    'kernelMSE',\n",
    "    'logCosh',\n",
    "    'mae',\n",
    "    'mape',\n",
    "    'mase',\n",
    "    'mbe',\n",
    "    'mse',\n",
    "    'msle',\n",
    "    'nrmse',\n",
    "    'poisson',\n",
    "    'quantile25',\n",
    "    'quantile75',\n",
    "    'rrmse',\n",
    "    'rse',\n",
    "    'rae',\n",
    "    'rmse',\n",
    "    'rmsse',\n",
    "    'rmsle',\n",
    "    'angle_loss',\n",
    "\n",
    "    ]"
   ]
  },
  {
   "cell_type": "code",
   "execution_count": null,
   "id": "2a62d4fa",
   "metadata": {},
   "outputs": [],
   "source": [
    "dict_of_losses_to_paper_names = {\n",
    "    'huber': \"Huber Loss\",\n",
    "    'kernelMSE': \"KernelMSE Loss\",\n",
    "    'logCosh': \"Log-Cosh Loss\",\n",
    "    'mae': \"MAE\",\n",
    "    'mape': \"MAPE\",\n",
    "    'mase': \"MASE\",\n",
    "    'mbe': \"MBE\",\n",
    "    'mse': \"MSE\",\n",
    "    'msle': \"MSLE\",\n",
    "    'nrmse': \"NRMSE\",\n",
    "    'poisson': \"Poisson Loss\",\n",
    "    'quantile25': \"Quantile Loss 0.25\",\n",
    "    'quantile75': \"Quantile Loss 0.75\",\n",
    "    'rrmse': \"RRMSE\",\n",
    "    'rse': \"RSE\",\n",
    "    'rae': \"RAE\",\n",
    "    'rmse': \"RMSE\",\n",
    "    'rmsle': \"RMSLE\",\n",
    "    'rmsse': \"RMSSE\",\n",
    "    'angle_loss': \"Angle Loss\",\n",
    "}"
   ]
  },
  {
   "cell_type": "code",
   "execution_count": null,
   "id": "18957a22",
   "metadata": {},
   "outputs": [],
   "source": [
    "dict_of_losses = dict()\n",
    "for loss in list_of_losses:\n",
    "    dict_of_losses[loss] = runs_df[runs_df['loss'] == loss].sort_values(by='create_time', ascending=True)"
   ]
  },
  {
   "cell_type": "code",
   "execution_count": null,
   "id": "397a258e",
   "metadata": {},
   "outputs": [],
   "source": [
    "dict_of_losses.keys()"
   ]
  },
  {
   "cell_type": "code",
   "execution_count": null,
   "id": "9f92a563",
   "metadata": {},
   "outputs": [],
   "source": [
    "dict_of_losses_manual = dict()\n",
    "dict_of_losses_optuna = dict()\n",
    "for loss in list_of_losses:\n",
    "    dict_of_losses_manual[loss] = dict_of_losses[loss].iloc[:108]\n",
    "    dict_of_losses_optuna[loss] = dict_of_losses[loss].iloc[108:]"
   ]
  },
  {
   "cell_type": "code",
   "execution_count": null,
   "id": "f7b2f938",
   "metadata": {},
   "outputs": [],
   "source": [
    "dict_of_losses_manual[\"mae\"]"
   ]
  },
  {
   "cell_type": "code",
   "execution_count": null,
   "id": "1d9a162e",
   "metadata": {},
   "outputs": [],
   "source": [
    "# best MAE values\n",
    "best_results_mae = {}\n",
    "best_results_mase = {}\n",
    "for i, (loss_name, df) in enumerate(dict_of_losses.items()):\n",
    "    best_results_mae[loss_name] = round(df['MAE'].min(), 2)\n",
    "    best_results_mase[loss_name] = round(df['MASE'].min(), 2)\n",
    "print(best_results_mae)\n",
    "print(best_results_mase)"
   ]
  },
  {
   "cell_type": "code",
   "execution_count": null,
   "id": "d9f8feec",
   "metadata": {},
   "outputs": [],
   "source": [
    "def draw_box_plots(losses_structure, less_than=None, max_graph_y = None, line=None, height=800):\n",
    "    # Create a subplot figure with one row per key\n",
    "    fig = make_subplots(\n",
    "        rows=1, \n",
    "        cols=1, \n",
    "        # subplot_titles=list_of_losses,  # Use keys as titles\n",
    "        shared_xaxes=True  # Share the x-axis across boxplots\n",
    "    )\n",
    "\n",
    "    # Add a boxplot for each key\n",
    "    for loss_name in list_of_losses:\n",
    "    \n",
    "        if loss_name not in losses_structure:\n",
    "            continue\n",
    "        df = losses_structure[loss_name]\n",
    "\n",
    "        if less_than is None:\n",
    "            mae_values = df['MAE']\n",
    "        else:\n",
    "            mae_values = df['MAE'].apply(lambda mae: mae if mae <= less_than else np.nan)\n",
    "\n",
    "        # Add boxplot to the subplot\n",
    "        fig.add_trace(\n",
    "            go.Box(\n",
    "                y=mae_values,\n",
    "                name=dict_of_losses_to_paper_names[loss_name],  # Legend entry\n",
    "                boxmean=True,  # Show mean as a line in the boxplot\n",
    "                marker=dict(color='black', opacity=0.6),  # Customize color and transparency\n",
    "                boxpoints=\"all\",\n",
    "                # boxpoints=\"suspectedoutliers\"\n",
    "                # boxpoints='outliers'\n",
    "            ),\n",
    "            row=1,\n",
    "            col=1\n",
    "        )\n",
    "    if line:\n",
    "        fig.add_shape(\n",
    "            type=\"line\",\n",
    "            x0=0, x1=1,  # 0 to 1 in \"paper\" coordinates means full width\n",
    "            y0=line, y1=line,  # y-value where you want the line\n",
    "            xref=\"paper\", yref=\"y\",\n",
    "            line=dict(color=\"red\", width=2, dash=\"dash\"),  # Line style\n",
    "        )\n",
    "    # Update layout\n",
    "    fig.update_layout(\n",
    "        # title={\n",
    "        #     'text': 'Boxplots of MAE Values for Each Loss Type',\n",
    "        #     'font': {'size': 24}  # Title font size\n",
    "        # },\n",
    "        xaxis_title={\n",
    "            'text': 'Loss function',\n",
    "            'font': {'size': 18}  # X-axis title font size\n",
    "        },\n",
    "        yaxis_title={\n",
    "            'text': 'mae metric',\n",
    "            'font': {'size': 18}  # Y-axis title font size\n",
    "        },\n",
    "        font=dict(\n",
    "            family=\"Computer Modern\",\n",
    "            size=20  # General font size for tick labels and subplot titles\n",
    "        ),\n",
    "        width=1000,\n",
    "        height=height,  # Adjust height based on the number of keys\n",
    "        showlegend=False,  # Hide legend (each subplot has its title)\n",
    "        margin=dict(l=5, r=5, t=5, b=10),\n",
    "        # yaxis=dict(range=[850, 1500])\n",
    "        xaxis=dict(\n",
    "            tickangle=90  # Rotates x-axis tick labels (box names) vertically\n",
    "        )\n",
    "    )\n",
    "    if max_graph_y:\n",
    "        fig.update_layout(\n",
    "            yaxis=dict(range=[850, max_graph_y])\n",
    "        )\n",
    "    # Show the interactive plot\n",
    "    return fig"
   ]
  },
  {
   "cell_type": "code",
   "execution_count": null,
   "id": "9b433bab",
   "metadata": {},
   "outputs": [],
   "source": [
    "# # box_plot = draw_box_plots(dict_of_losses, 1_000_000)\n",
    "# box_plot = draw_box_plots({'mbe': dict_of_losses['mbe']})\n",
    "# box_plot.write_image(\"box_plot.pdf\", format=\"pdf\")\n",
    "# box_plot"
   ]
  },
  {
   "cell_type": "code",
   "execution_count": null,
   "id": "c1b38e98",
   "metadata": {},
   "outputs": [],
   "source": [
    "# box plots from paper\n",
    "box_plot = draw_box_plots(dict_of_losses, max_graph_y=10000, height=500)\n",
    "# saving box plots to file\n",
    "box_plot.write_image(\"box_plot_all_less_10k.pdf\", format=\"pdf\")\n",
    "box_plot"
   ]
  },
  {
   "cell_type": "code",
   "execution_count": null,
   "id": "8bd5231c",
   "metadata": {},
   "outputs": [],
   "source": [
    "# box_plot = draw_box_plots(dict_of_losses, max_graph_y=1600)\n",
    "# box_plot"
   ]
  },
  {
   "cell_type": "code",
   "execution_count": null,
   "id": "c54c5ff3",
   "metadata": {},
   "outputs": [],
   "source": [
    "print(len(dict_of_losses))\n",
    "dict_of_losses.pop(\"mbe\")\n",
    "dict_of_losses.pop(\"rrmse\")\n",
    "dict_of_losses.pop(\"poisson\")\n",
    "dict_of_losses.pop(\"msle\")\n",
    "dict_of_losses.pop(\"mape\")\n",
    "dict_of_losses.pop(\"rmsle\")\n",
    "print(len(dict_of_losses))"
   ]
  },
  {
   "cell_type": "code",
   "execution_count": null,
   "id": "3f03499d",
   "metadata": {},
   "outputs": [],
   "source": [
    "# box plots from paper\n",
    "box_plot = draw_box_plots(dict_of_losses, less_than=1600, max_graph_y=1600)\n",
    "# saving box plots to file\n",
    "# box_plot.write_image(\"box_plot_1600_removed.pdf\", format=\"pdf\")\n",
    "box_plot"
   ]
  },
  {
   "cell_type": "code",
   "execution_count": null,
   "id": "352ceff8",
   "metadata": {},
   "outputs": [],
   "source": [
    "# box_plot = draw_box_plots(dict_of_losses_manual)\n",
    "# # box_plot.write_image(\"box_plot.pdf\", format=\"pdf\")\n",
    "# box_plot"
   ]
  },
  {
   "cell_type": "code",
   "execution_count": null,
   "id": "b7b022bc",
   "metadata": {},
   "outputs": [],
   "source": [
    "# box_plot = draw_box_plots(dict_of_losses_optuna)\n",
    "# # box_plot.write_image(\"box_plot.pdf\", format=\"pdf\")\n",
    "# box_plot"
   ]
  },
  {
   "cell_type": "code",
   "execution_count": null,
   "id": "fcd580a9",
   "metadata": {},
   "outputs": [],
   "source": [
    "# number of MAE values bigger than 1500\n",
    "bigger_than = {}\n",
    "for i, (loss_name, df) in enumerate(dict_of_losses.items(), start=1):\n",
    "    # bigger = []\n",
    "    # Filter MAE values (exclude NaN if any)\n",
    "    mae_values = df['MAE']\n",
    "    bigger = mae_values.values[mae_values.values > 1600]\n",
    "    bigger.sort()\n",
    "    # = (mae_values > 1600).sum().sum()\n",
    "    bigger_than[loss_name] = bigger\n",
    "bigger_than\n",
    "    "
   ]
  }
 ],
 "metadata": {
  "kernelspec": {
   "display_name": "torch2.6",
   "language": "python",
   "name": "python3"
  },
  "language_info": {
   "codemirror_mode": {
    "name": "ipython",
    "version": 3
   },
   "file_extension": ".py",
   "mimetype": "text/x-python",
   "name": "python",
   "nbconvert_exporter": "python",
   "pygments_lexer": "ipython3",
   "version": "3.11.11"
  }
 },
 "nbformat": 4,
 "nbformat_minor": 5
}
